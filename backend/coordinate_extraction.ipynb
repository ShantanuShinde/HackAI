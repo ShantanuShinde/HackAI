{
 "cells": [
  {
   "cell_type": "code",
   "execution_count": 14,
   "id": "ec9a9aaf",
   "metadata": {},
   "outputs": [],
   "source": [
    "import os\n",
    "import json\n",
    "import mediapipe as mp"
   ]
  },
  {
   "cell_type": "code",
   "execution_count": 15,
   "id": "f87fb69c",
   "metadata": {},
   "outputs": [],
   "source": [
    "videos = os.listdir(\"dataset/videos\")"
   ]
  },
  {
   "cell_type": "code",
   "execution_count": 11,
   "id": "60a75a8f",
   "metadata": {},
   "outputs": [],
   "source": [
    "with open(\"dataset/WLASL_v0.3.json\", 'r') as file:\n",
    "    data_map = json.load(file)"
   ]
  },
  {
   "cell_type": "code",
   "execution_count": 8,
   "id": "1aae2cff",
   "metadata": {},
   "outputs": [],
   "source": [
    "mp_drawing = mp.solutions.drawing_utils\n",
    "mp_hands = mp.solutions.hands"
   ]
  },
  {
   "cell_type": "code",
   "execution_count": 16,
   "id": "2c90249b",
   "metadata": {},
   "outputs": [],
   "source": [
    "VIDEOS_DIR = \"dataset/videos\""
   ]
  },
  {
   "cell_type": "code",
   "execution_count": 17,
   "id": "853894be",
   "metadata": {},
   "outputs": [],
   "source": [
    "import cv2"
   ]
  },
  {
   "cell_type": "code",
   "execution_count": 26,
   "id": "20175461",
   "metadata": {},
   "outputs": [],
   "source": [
    "word_coordinates = {}"
   ]
  },
  {
   "cell_type": "code",
   "execution_count": null,
   "id": "2c6e84fb",
   "metadata": {},
   "outputs": [],
   "source": [
    "with mp_hands.Hands(min_detection_confidence=0.8, min_tracking_confidence=0.5) as hands:\n",
    "    for word in data_map:\n",
    "        word_coordinates[word[\"gloss\"]] = []\n",
    "        video_id = word[\"instances\"][0][\"video_id\"]\n",
    "        video_path = os.path.join(VIDEOS_DIR, video_id + \".mp4\")\n",
    "        video = cv2.VideoCapture(video_path)\n",
    "        while video.isOpened():\n",
    "                ret, frame = video.read()\n",
    "\n",
    "                if not ret:\n",
    "                    break\n",
    "\n",
    "                # Resize the frame to 800x750\n",
    "                frame = cv2.resize(frame, (800, 750))\n",
    "\n",
    "                # Convert the frame to RGB\n",
    "                image_rgb = cv2.cvtColor(frame, cv2.COLOR_BGR2RGB)\n",
    "\n",
    "                # Detections\n",
    "                results = hands.process(image_rgb)\n",
    "\n",
    "                if results.multi_hand_landmarks:\n",
    "                    # Initialize hand coordinates\n",
    "                    hand_coordinates = []\n",
    "\n",
    "                    frame_hands = {\n",
    "                        \"Left Hand Coordinates\": [],\n",
    "                        \"Right Hand Coordinates\": []\n",
    "                    }\n",
    "\n",
    "                    # Process each detected hand\n",
    "                    for idx, hand_landmarks in enumerate(results.multi_hand_landmarks):\n",
    "                        # Get the handedness classification from MediaPipe\n",
    "                        handedness = results.multi_handedness[idx].classification[0].label\n",
    "                        hand = hand_landmarks.landmark\n",
    "\n",
    "                        coordinates = []\n",
    "                        # Store coordinates and joint index in the hand coordinates list\n",
    "                        for joint_id, landmark in enumerate(hand):\n",
    "                            x, y, z = landmark.x, landmark.y, landmark.z\n",
    "                            joint_data = {\n",
    "                                \"Joint Index\": joint_id,\n",
    "                                \"Coordinates\": [x, y, z]\n",
    "                            }\n",
    "                            coordinates.append(joint_data)\n",
    "                        frame_hands[f\"{handedness} Hand Coordinates\"] = coordinates\n",
    "                    word_coordinates[word[\"gloss\"]].append(frame_hands)\n"
   ]
  },
  {
   "cell_type": "code",
   "execution_count": 28,
   "id": "aefe84dc",
   "metadata": {},
   "outputs": [],
   "source": [
    "with open('coordinates.json', 'w') as fp:\n",
    "    json.dump(word_coordinates, fp)"
   ]
  },
  {
   "cell_type": "code",
   "execution_count": null,
   "id": "c47fa59f",
   "metadata": {},
   "outputs": [],
   "source": []
  },
  {
   "cell_type": "code",
   "execution_count": null,
   "id": "d5614a52",
   "metadata": {},
   "outputs": [],
   "source": []
  }
 ],
 "metadata": {
  "kernelspec": {
   "display_name": "Python 3",
   "language": "python",
   "name": "python3"
  },
  "language_info": {
   "codemirror_mode": {
    "name": "ipython",
    "version": 3
   },
   "file_extension": ".py",
   "mimetype": "text/x-python",
   "name": "python",
   "nbconvert_exporter": "python",
   "pygments_lexer": "ipython3",
   "version": "3.12.9"
  }
 },
 "nbformat": 4,
 "nbformat_minor": 5
}
